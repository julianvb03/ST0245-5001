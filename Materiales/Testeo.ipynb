{
 "cells": [
  {
   "cell_type": "code",
   "execution_count": 5,
   "metadata": {
    "collapsed": true,
    "pycharm": {
     "name": "#%%\n"
    }
   },
   "outputs": [],
   "source": [
    "#Importación de los modulos necesarios y lectura del archivo CSV y Reemplazar los valores NaN en la columna de 'harassmentRisk'\n",
    "from geopy.geocoders import Nominatim\n",
    "from queue import PriorityQueue\n",
    "import pandas as pd\n",
    "import folium\n",
    "\n",
    "df = pd.read_csv(r'calles_de_medellin_con_acoso.csv', sep=\";\")\n",
    "HARASSMENT_APROX = df['harassmentRisk'].mean()\n",
    "df['harassmentRisk'].fillna(HARASSMENT_APROX, inplace=True)"
   ]
  },
  {
   "cell_type": "code",
   "execution_count": 6,
   "outputs": [],
   "source": [
    "#Metodo para corregir las coordenadas\n",
    "def correctFormat(text: str) -> tuple:\n",
    "    textProcess = text[1:-1]\n",
    "    partB, partA = textProcess.split(\",\")\n",
    "    listReturn = [float(partA),float(partB)]\n",
    "    return tuple(listReturn)\n",
    "\n",
    "#Metodo para obtener el nombre de una calle con sus coordenadas\n",
    "def coordinateToStreet(coordinate: tuple) -> str:\n",
    "    localizator = Nominatim(user_agent = \"SecurityON\")\n",
    "    location = localizator.reverse(\"{},{}\".format(coordinate[0],coordinate[1]))\n",
    "    return location"
   ],
   "metadata": {
    "collapsed": false,
    "pycharm": {
     "name": "#%%\n"
    }
   }
  },
  {
   "cell_type": "code",
   "execution_count": 12,
   "outputs": [],
   "source": [
    "#Metodo que crea el grafo\n",
    "def createGrahp() -> dict:\n",
    "    uniqueOrigins = pd.unique(df['origin'])\n",
    "    graph = {}\n",
    "    for origin in uniqueOrigins:\n",
    "        correctOrigin = correctFormat(origin)\n",
    "        graph[correctOrigin] = {}\n",
    "\n",
    "    for index in df.index:\n",
    "        originIteration = correctFormat(df['origin'][index])\n",
    "        destinationIteration = correctFormat(df['destination'][index])\n",
    "        if destinationIteration in graph:\n",
    "            if df['oneway'][index]:\n",
    "                graph[originIteration] |= {destinationIteration:(df['length'][index],df['harassmentRisk'][index])}\n",
    "                graph[destinationIteration] |= {originIteration:(df['length'][index],df['harassmentRisk'][index])}\n",
    "            else: graph[originIteration] |= {destinationIteration:(df['length'][index],df['harassmentRisk'][index])}\n",
    "        else:\n",
    "            if df['oneway'][index]:\n",
    "                graph[destinationIteration] = {}\n",
    "                graph[originIteration] |= {destinationIteration:(df['length'][index],df['harassmentRisk'][index])}\n",
    "                graph[destinationIteration] |= {originIteration:(df['length'][index],df['harassmentRisk'][index])}\n",
    "            else: graph[originIteration] |= {destinationIteration:(df['length'][index],df['harassmentRisk'][index])}\n",
    "\n",
    "    return graph\n",
    "\n",
    "graphCM = createGrahp()"
   ],
   "metadata": {
    "collapsed": false,
    "pycharm": {
     "name": "#%%\n"
    }
   }
  },
  {
   "cell_type": "code",
   "execution_count": 14,
   "outputs": [],
   "source": [
    "def create_map(paht: list):\n",
    "    map = folium.Map(location=[paht[0][0], paht[0][1]], zoom_start=14)\n",
    "    folium.PolyLine(paht, color='blue', weigth=15, opacity=0.8).add_to(map)\n",
    "    map.save('index.html')\n",
    "\n",
    "def DjikstraSecond(graph: dict, origin: tuple, destination: tuple) -> list:\n",
    "    distances = {vertex : float(\"inf\") for vertex in graph}\n",
    "    previus = {vertex: 0 for vertex in graph}\n",
    "    compares = PriorityQueue()\n",
    "\n",
    "    distances[origin] = 0\n",
    "    compares.put((0,origin))\n",
    "\n",
    "    while not compares.empty():\n",
    "        vertexTuple = compares.get()\n",
    "        vertex = vertexTuple[1]\n",
    "        if vertex == destination: break\n",
    "        for adyacent in graph[vertex]:\n",
    "            weigth = graph[vertex][adyacent][0]\n",
    "            if distances[adyacent] > distances[vertex] + weigth:\n",
    "                distances[adyacent] = distances[vertex] + weigth\n",
    "                previus[adyacent] = vertex\n",
    "                compares.put((distances[adyacent],adyacent))\n",
    "\n",
    "    ruta = []\n",
    "    actual = destination\n",
    "    while actual != origin:\n",
    "        ruta.insert(0,actual)\n",
    "        actual = previus[actual]\n",
    "\n",
    "    return ruta\n",
    "\n",
    "ruta = DjikstraSecond(graphCM,(6.2099192, -75.5663399),(6.3003479,-75.5543665))\n",
    "\n",
    "create_map(ruta)"
   ],
   "metadata": {
    "collapsed": false,
    "pycharm": {
     "name": "#%%\n"
    }
   }
  }
 ],
 "metadata": {
  "kernelspec": {
   "display_name": "Python 3",
   "language": "python",
   "name": "python3"
  },
  "language_info": {
   "codemirror_mode": {
    "name": "ipython",
    "version": 2
   },
   "file_extension": ".py",
   "mimetype": "text/x-python",
   "name": "python",
   "nbconvert_exporter": "python",
   "pygments_lexer": "ipython2",
   "version": "2.7.6"
  }
 },
 "nbformat": 4,
 "nbformat_minor": 0
}