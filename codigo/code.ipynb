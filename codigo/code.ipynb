{
 "cells": [
  {
   "cell_type": "code",
   "execution_count": null,
   "metadata": {
    "pycharm": {
     "name": "#%%\n"
    }
   },
   "outputs": [],
   "source": [
    "#Importación de los modulos necesarios y lectura del archivo CSV\n",
    "import pandas as pd\n",
    "import gmplot\n",
    "from geopy.geocoders import Nominatim\n",
    "\n",
    "df = pd.read_csv(r'calles_de_medellin_con_acoso.csv', sep=\";\")"
   ]
  },
  {
   "cell_type": "code",
   "execution_count": null,
   "metadata": {
    "collapsed": false,
    "pycharm": {
     "name": "#%%\n"
    }
   },
   "outputs": [],
   "source": [
    "#Metodo para corregir las coordenadas\n",
    "def correctFormat(text: str) -> tuple:\n",
    "    textProcess = text[1:-1]\n",
    "    partB, partA = textProcess.split(\",\")\n",
    "    listReturn = [float(partA),float(partB)]\n",
    "    return tuple(listReturn)\n",
    "\n",
    "#Metodo para obtener el nombre de una calle con sus coordenadas\n",
    "def coordinateToStreet(coordinate: tuple) -> str:\n",
    "    localizator = Nominatim(user_agent = \"SecurityON\")\n",
    "    location = localizator.reverse(\"{},{}\".format(coordinate[0],coordinate[1]))\n",
    "    return location\n",
    "\n",
    "#Metodo para sacar el promedio del acoso en toda la ciudad\n",
    "def average() -> float:\n",
    "    count = 0\n",
    "    count2 = 0\n",
    "    for iteration in df['harassmentRisk']:\n",
    "        if pd.isnull(iteration):\n",
    "            continue\n",
    "        else:\n",
    "            count2 += 1\n",
    "            count += iteration\n",
    "    return count / count2\n",
    "\n",
    "#Reemplazar los valores NaN en la columna de 'harassmentRisk'\n",
    "PROMEDIO = average()\n",
    "df['harassmentRisk'].fillna(PROMEDIO, inplace=True)"
   ]
  },
  {
   "cell_type": "code",
   "execution_count": null,
   "metadata": {
    "collapsed": false,
    "pycharm": {
     "name": "#%%\n"
    }
   },
   "outputs": [],
   "source": [
    "#Metodo que crea el grafo\n",
    "def createGrahp() -> dict:\n",
    "    uniqueOrigins = pd.unique(df['origin'])\n",
    "    graph = {}\n",
    "    for origin in uniqueOrigins:\n",
    "        correctOrigin = correctFormat(origin)\n",
    "        graph[correctOrigin] = {}\n",
    "\n",
    "    for index in df.index:\n",
    "        originIteration = correctFormat(df['origin'][index])\n",
    "        destinationIteration = correctFormat(df['destination'][index])\n",
    "        if destinationIteration in graph:\n",
    "            if df['oneway'][index]:\n",
    "                graph[originIteration] |= {destinationIteration:(df['length'][index],df['harassmentRisk'][index])}\n",
    "                graph[destinationIteration] |= {originIteration:(df['length'][index],df['harassmentRisk'][index])}\n",
    "            else: graph[originIteration] |= {destinationIteration:(df['length'][index],df['harassmentRisk'][index])}\n",
    "        else:\n",
    "            if df['oneway'][index]:\n",
    "                graph[destinationIteration] = {}\n",
    "                graph[originIteration] |= {destinationIteration:(df['length'][index],df['harassmentRisk'][index])}\n",
    "                graph[destinationIteration] |= {originIteration:(df['length'][index],df['harassmentRisk'][index])}\n",
    "            else: graph[originIteration] |= {destinationIteration:(df['length'][index],df['harassmentRisk'][index])}\n",
    "\n",
    "    return graph\n",
    "\n",
    "graphCM = createGrahp()"
   ]
  },
  {
   "cell_type": "code",
   "execution_count": null,
   "metadata": {
    "collapsed": false,
    "pycharm": {
     "name": "#%%\n"
    }
   },
   "outputs": [],
   "source": [
    "#Algoritmo que busca la ruta más corta, retorna una lista en orden con los nodos que representan dicha ruta\n",
    "def DjikstraFirst(graph: dict, origin: tuple, destination: tuple) -> list:\n",
    "    shortesdDistance = {}\n",
    "    previusly = {}\n",
    "    noVisiteds = graph\n",
    "    CONTROLER = 999999\n",
    "    shortestPath = []\n",
    "\n",
    "    for node in noVisiteds:\n",
    "        shortesdDistance[node] = CONTROLER\n",
    "    shortesdDistance[origin] = 0\n",
    "\n",
    "    while noVisiteds:\n",
    "        minDistance = None\n",
    "        for node in noVisiteds:\n",
    "            if minDistance is None:\n",
    "                minDistance = node\n",
    "            elif shortesdDistance[node] < shortesdDistance[minDistance]:\n",
    "                minDistance = node\n",
    "\n",
    "        pahtOptions = graph[minDistance].items()\n",
    "\n",
    "        for childNode, weight in pahtOptions:\n",
    "            if weight[0] + shortesdDistance[minDistance] < shortesdDistance[childNode]:\n",
    "                shortesdDistance[childNode] = weight[0] + shortesdDistance[minDistance]\n",
    "                previusly[childNode] = minDistance\n",
    "\n",
    "        noVisiteds.pop(minDistance)\n",
    "\n",
    "    actualyNode = destination\n",
    "\n",
    "    while actualyNode != origin:\n",
    "        try:\n",
    "            shortestPath.insert(0, actualyNode)\n",
    "            actualyNode = previusly[actualyNode]\n",
    "        except KeyError:\n",
    "            return [\"Error\"]\n",
    "\n",
    "    if shortesdDistance[destination] != CONTROLER:\n",
    "        return shortestPath\n",
    "\n",
    "route = DjikstraFirst(graphCM,(6.2099192, -75.5663399),(6.3003479,-75.5543665))"
   ]
  },
  {
   "cell_type": "code",
   "execution_count": null,
   "metadata": {
    "pycharm": {
     "name": "#%%\n"
    }
   },
   "outputs": [],
   "source": [
    "#Genera un archivo HTML con la ruta visualmente\n",
    "def routhGenerator(lista: list) -> None:\n",
    "    latitude = [x[0] for x in lista]\n",
    "    lang = [x[1] for x in lista]\n",
    "    gmapMedallo = gmplot.GoogleMapPlotter(lista[0][0], lista[0][1], 15)\n",
    "    gmapMedallo.scatter(latitude, lang, '#F0F8FF', size = 50, marker = False)\n",
    "    gmapMedallo.plot(latitude, lang, 'aliceblue', edge_width = 2)\n",
    "    gmapMedallo.draw(\"Routh_Map.html\")\n",
    "\n",
    "routhGenerator(route)"
   ]
  }
 ],
 "metadata": {
  "kernelspec": {
   "display_name": "Python 3.10.5 64-bit",
   "language": "python",
   "name": "python3"
  },
  "language_info": {
   "name": "python",
   "version": "3.10.5"
  },
  "orig_nbformat": 4,
  "vscode": {
   "interpreter": {
    "hash": "837c519a48be08d8749c778cb72b9b5aac116a087aa5d1d99ee0359dceff73e6"
   }
  }
 },
 "nbformat": 4,
 "nbformat_minor": 2
}