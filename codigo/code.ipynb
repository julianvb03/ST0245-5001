{
 "cells": [
  {
   "cell_type": "code",
   "execution_count": 13,
   "metadata": {
    "pycharm": {
     "name": "#%%\n"
    }
   },
   "outputs": [],
   "source": [
    "#Importación de los modulos necesarios y lectura del archivo CSV\n",
    "import pandas as pd\n",
    "import gmplot\n",
    "from geopy.geocoders import Nominatim\n",
    "df = pd.read_csv(r'calles_de_medellin_con_acoso.csv', sep=\";\")"
   ]
  },
  {
   "cell_type": "code",
   "execution_count": 14,
   "metadata": {
    "collapsed": false,
    "pycharm": {
     "name": "#%%\n"
    }
   },
   "outputs": [],
   "source": [
    "#Metodo para corregir las coordenadas\n",
    "def correctFormat(text: str) -> tuple:\n",
    "    textProcess = text[1:-1]\n",
    "    partB, partA = textProcess.split(\",\")\n",
    "    listReturn = [float(partA),float(partB)]\n",
    "    return tuple(listReturn)\n",
    "\n",
    "#Metodo para obtener el nombre de una calle con sus coordenadas\n",
    "def coordinateToStreet(coordinate: tuple) -> str:\n",
    "    localizator = Nominatim(user_agent = \"SecurityON\")\n",
    "    location = localizator.reverse(\"{},{}\".format(coordinate[0],coordinate[1]))\n",
    "    return location\n",
    "\n",
    "#Metodo para sacar el promedio del acoso en toda la ciudad\n",
    "def average() -> float:\n",
    "    count = 0\n",
    "    count2 = 0\n",
    "    for iteration in df['harassmentRisk']:\n",
    "        if pd.isnull(iteration):\n",
    "            continue\n",
    "        else:\n",
    "            count2 += 1\n",
    "            count += iteration\n",
    "    return count / count2\n",
    "\n",
    "#Reemplazar los valores NaN en la columna de 'harassmentRisk'\n",
    "PROMEDIO = average()\n",
    "df['harassmentRisk'].fillna(PROMEDIO, inplace=True)"
   ]
  },
  {
   "cell_type": "code",
   "execution_count": 15,
   "metadata": {
    "collapsed": false,
    "pycharm": {
     "name": "#%%\n"
    }
   },
   "outputs": [],
   "source": [
    "#Metodo que crea el grafo\n",
    "def createGrahp() -> dict:\n",
    "    uniqueOrigins = pd.unique(df['origin'])\n",
    "    graph = {}\n",
    "    for origin in uniqueOrigins:\n",
    "        correctOrigin = correctFormat(origin)\n",
    "        graph[correctOrigin] = {}\n",
    "\n",
    "    for index in df.index:\n",
    "        originIteration = correctFormat(df['origin'][index])\n",
    "        destinationIteration = correctFormat(df['destination'][index])\n",
    "        if destinationIteration in graph:\n",
    "            if df['oneway'][index]:\n",
    "                graph[originIteration] = graph[originIteration] | {destinationIteration:(df['length'][index],df['harassmentRisk'][index])}\n",
    "                graph[destinationIteration] = graph[destinationIteration] | {originIteration:(df['length'][index],df['harassmentRisk'][index])}\n",
    "            else: graph[originIteration] = graph[originIteration] | {destinationIteration:(df['length'][index],df['harassmentRisk'][index])}\n",
    "        else:\n",
    "            if df['oneway'][index]:\n",
    "                graph[destinationIteration] = {}\n",
    "                graph[originIteration] = graph[originIteration] | {destinationIteration:(df['length'][index],df['harassmentRisk'][index])}\n",
    "                graph[destinationIteration] = graph[destinationIteration] | {originIteration:(df['length'][index],df['harassmentRisk'][index])}\n",
    "            else: graph[originIteration] = graph[originIteration] | {destinationIteration:(df['length'][index],df['harassmentRisk'][index])}\n",
    "\n",
    "    return graph\n",
    "\n",
    "graphCM = createGrahp()"
   ]
  },
  {
   "cell_type": "code",
   "execution_count": 16,
   "metadata": {
    "collapsed": false,
    "pycharm": {
     "name": "#%%\n"
    }
   },
   "outputs": [
    {
     "name": "stdout",
     "output_type": "stream",
     "text": [
      "El camino más corto está dado por:  [(6.2731964, -75.544468), (6.2729223, -75.5444504), (6.272852, -75.5444377), (6.2728866, -75.5456093), (6.2728127, -75.5456026), (6.2726581, -75.5456187), (6.2724109, -75.5457113), (6.2721471, -75.5457106), (6.272222, -75.5461204), (6.2713431, -75.5463021), (6.2713798, -75.5465003), (6.2698413, -75.5465697), (6.2694021, -75.5469726), (6.2689824, -75.5473578), (6.2685324, -75.5477707), (6.2680583, -75.5482057), (6.2680439, -75.5487727), (6.2680244, -75.5495432), (6.268015, -75.549708), (6.2676405, -75.54966), (6.2672128, -75.5498214), (6.2669347, -75.5504078), (6.2667174, -75.5505451), (6.2661776, -75.5510484), (6.2659428, -75.5511748), (6.2659066, -75.5511811), (6.265331, -75.551242), (6.2647598, -75.5513047), (6.2640163, -75.5524974), (6.263911, -75.5525706), (6.2634704, -75.5530927), (6.262935, -75.553333), (6.2627074, -75.5535577), (6.2621733, -75.5537025), (6.2605274, -75.5532832), (6.2600372, -75.5536752), (6.2596821, -75.5539775), (6.2596493, -75.5540661), (6.2597078, -75.5543882), (6.2597859, -75.5549124), (6.2590266, -75.5554509), (6.2584101, -75.5558882), (6.2570416, -75.5568589), (6.2569515, -75.5579229), (6.25626, -75.5584463), (6.2555729, -75.5589205), (6.2548627, -75.5593524), (6.2540681, -75.5599296), (6.2539859, -75.55992), (6.2533159, -75.5604371), (6.2532686, -75.5604935), (6.25249, -75.5610191), (6.2524507, -75.5610486), (6.2518788, -75.5614466), (6.2512367, -75.5618971), (6.2505924, -75.5623576), (6.2495943, -75.5630098), (6.2488637, -75.5635303), (6.2488044, -75.5635726), (6.2487683, -75.5635978), (6.2486967, -75.5636474), (6.2480493, -75.5641013), (6.2476934, -75.5643538), (6.247064, -75.5647921), (6.24697, -75.5648547), (6.2462194, -75.5653941), (6.2455111, -75.5658778), (6.2450319, -75.5662059), (6.2445996, -75.5665042), (6.2443979, -75.5666377), (6.2439187, -75.5673317), (6.243582, -75.5676177), (6.2427727, -75.5679538), (6.24254, -75.5680504), (6.2416899, -75.5684039), (6.2411278, -75.5686388), (6.2407399, -75.5688008), (6.2397458, -75.5692174), (6.2388792, -75.5695825), (6.2380828, -75.5699179), (6.2375722, -75.5700684), (6.2372729, -75.5699023), (6.2371075, -75.5699248), (6.2369743, -75.5700617), (6.2366264, -75.5701857), (6.2362918, -75.5701679), (6.2353257, -75.5701446), (6.2346892, -75.5700856), (6.2346174, -75.5700766), (6.2344953, -75.5700661), (6.23394, -75.5700184), (6.2313332, -75.5698563), (6.2312193, -75.5698492), (6.231117, -75.5698429), (6.2298527, -75.569767), (6.2297657, -75.5697563), (6.2295598, -75.5697285), (6.2276526, -75.5693991), (6.2259464, -75.5691396), (6.2251362, -75.5691542), (6.2247955, -75.5691554), (6.2235985, -75.5691674), (6.2233874, -75.5691617), (6.2226773, -75.5692068), (6.2222417, -75.569261), (6.2199946, -75.5694036), (6.2190788, -75.5696068), (6.2178228, -75.5698362), (6.2166636, -75.5698764), (6.2147567, -75.5699082), (6.2146317, -75.5699145), (6.2130518, -75.5699235), (6.2128236, -75.5699408), (6.2127887, -75.5699401), (6.2119378, -75.5699843), (6.2116409, -75.5700441), (6.211394, -75.5701282), (6.2113193, -75.570007), (6.211039, -75.56929), (6.2109221, -75.569105), (6.2108414, -75.5689008), (6.2106979, -75.5684921), (6.2100506, -75.5687387), (6.2100282, -75.5686824), (6.2099443, -75.568715), (6.2099195, -75.5686502), (6.2097089, -75.5681075), (6.2096696, -75.5680069), (6.2096409, -75.5679359), (6.2094784, -75.5675391), (6.2094357, -75.5674348)]\n"
     ]
    }
   ],
   "source": [
    "#Algoritmo que busca la ruta más corta, retorna una lista en orden con los nodos que representan dicha ruta\n",
    "def DjikstraFirst(graph: dict, origin: tuple, destination: tuple) -> list:\n",
    "    shortesdDistance = {}\n",
    "    previusly = {}\n",
    "    noVisiteds = graph\n",
    "    CONTROLER = 999999\n",
    "    shortestPath = []\n",
    "\n",
    "    for node in noVisiteds:\n",
    "        shortesdDistance[node] = CONTROLER\n",
    "    shortesdDistance[origin] = 0\n",
    "\n",
    "    while noVisiteds:\n",
    "        minDistance = None\n",
    "        for node in noVisiteds:\n",
    "            if minDistance is None:\n",
    "                minDistance = node\n",
    "            elif shortesdDistance[node] < shortesdDistance[minDistance]:\n",
    "                minDistance = node\n",
    "\n",
    "        pahtOptions = graph[minDistance].items()\n",
    "\n",
    "        for childNode, weight in pahtOptions:\n",
    "            if weight[0] + shortesdDistance[minDistance] < shortesdDistance[childNode]:\n",
    "                shortesdDistance[childNode] = weight[0] + shortesdDistance[minDistance]\n",
    "                previusly[childNode] = minDistance\n",
    "\n",
    "        noVisiteds.pop(minDistance)\n",
    "\n",
    "    actualyNode = destination\n",
    "\n",
    "    while actualyNode != origin:\n",
    "        try:\n",
    "            shortestPath.insert(0, actualyNode)\n",
    "            actualyNode = previusly[actualyNode]\n",
    "        except KeyError:\n",
    "            print(\"El camino no es posible de encontrar\")\n",
    "            break\n",
    "\n",
    "    if shortesdDistance[destination] != CONTROLER:\n",
    "        #print(\"La distancia más corta es de: \", str(shortesdDistance))\n",
    "        print(\"El camino más corto está dado por: \", str(shortestPath))\n",
    "        return shortestPath\n",
    "\n",
    "lista = DjikstraFirst(graphCM,(6.2734442, -75.5443961),(6.2094357, -75.5674348))"
   ]
  },
  {
   "cell_type": "code",
   "execution_count": 17,
   "metadata": {
    "pycharm": {
     "name": "#%%\n"
    }
   },
   "outputs": [],
   "source": [
    "#Genera un archivo HTML con la ruta visualmente\n",
    "def routhGenerator(paht: list) -> None:\n",
    "    latitude = [x[0] for x in lista]\n",
    "    lang = [x[1] for x in lista]\n",
    "    gmapMedallo = gmplot.GoogleMapPlotter(lista[0][0], lista[0][1], 15)\n",
    "    gmapMedallo.scatter(latitude, lang, '#F0F8FF', size = 50, marker = False)\n",
    "    gmapMedallo.plot(latitude, lang, 'aliceblue', edge_width = 2.5)\n",
    "    gmapMedallo.draw(\"medallo.html\")\n",
    "\n",
    "routhGenerator(lista)"
   ]
  }
 ],
 "metadata": {
  "kernelspec": {
   "display_name": "Python 3.10.5 64-bit",
   "language": "python",
   "name": "python3"
  },
  "language_info": {
   "name": "python",
   "version": "3.10.5"
  },
  "orig_nbformat": 4,
  "vscode": {
   "interpreter": {
    "hash": "837c519a48be08d8749c778cb72b9b5aac116a087aa5d1d99ee0359dceff73e6"
   }
  }
 },
 "nbformat": 4,
 "nbformat_minor": 2
}