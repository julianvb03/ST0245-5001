{
 "cells": [
  {
   "cell_type": "code",
   "execution_count": 132,
   "metadata": {
    "pycharm": {
     "name": "#%%\n"
    }
   },
   "outputs": [],
   "source": [
    "#Importamos pandas numpy y leemos el archivo csv con el que trabajaremos\n",
    "import pandas as pd\n",
    "import numpy as np\n",
    "df = pd.read_csv(r'calles_de_medellin_con_acoso.csv', sep=\";\")"
   ]
  },
  {
   "cell_type": "code",
   "execution_count": 79,
   "outputs": [],
   "source": [
    "#Creamos una funcion para sacar el promedio del acoso sexual con el fin de reemplazar los datos que faltan en la columna 'harassmentRisk'\n",
    "def promedio():\n",
    "    suma = 0\n",
    "    for dato in df['harassmentRisk']:\n",
    "        if pd.isnull(dato):\n",
    "            continue\n",
    "        else:\n",
    "            suma += dato\n",
    "    return suma / len(df['harassmentRisk'])\n",
    "PROMEDIO = promedio()\n",
    "df['harassmentRisk'].fillna(PROMEDIO, inplace=True)"
   ],
   "metadata": {
    "collapsed": false,
    "pycharm": {
     "name": "#%%\n"
    }
   }
  },
  {
   "cell_type": "code",
   "execution_count": 186,
   "outputs": [
    {
     "name": "stdout",
     "output_type": "stream",
     "text": [
      "27671\n",
      "27661\n",
      "(-75.5686884, 6.2063927)\n",
      "{'(-75.5687224, 6.2060586)': (37.34, 0.3021730539710254), '(-75.5681218, 6.2063043)': (63.401, 0.3021730539710254), '(-75.5685931, 6.2073652)': (108.671, 0.3021730539710254), '(-75.5715105, 6.2063061)': (334.387, 0.3021730539710254)}\n"
     ]
    }
   ],
   "source": [
    "uOrigin = pd.unique(df['origin'])\n",
    "def crearGrafo():\n",
    "    grafo = {}\n",
    "    for origin in uOrigin:\n",
    "        grafo[origin] = {}\n",
    "    for index in df.index:\n",
    "        if df['destination'][index] in grafo:\n",
    "            if df['oneway'][index]:\n",
    "                grafo[df['origin'][index]] = grafo[df['origin'][index]] | {df['destination'][index]:(df['length'][index],df['harassmentRisk'][index])}\n",
    "                grafo[df['destination'][index]] = grafo[df['destination'][index]] | {df['origin'][index]:(df['length'][index],df['harassmentRisk'][index])}\n",
    "            else: grafo[df['origin'][index]] = grafo[df['origin'][index]] | {df['destination'][index]:(df['length'][index],df['harassmentRisk'][index])}\n",
    "        else:\n",
    "            if df['oneway'][index]:\n",
    "                grafo[df['destination'][index]] = {}\n",
    "                grafo[df['origin'][index]] = grafo[df['origin'][index]] | {df['destination'][index]:(df['length'][index],df['harassmentRisk'][index])}\n",
    "                grafo[df['destination'][index]] = grafo[df['destination'][index]] | {df['origin'][index]:(df['length'][index],df['harassmentRisk'][index])}\n",
    "\n",
    "    return grafo\n",
    "\n",
    "grafo = crearGrafo()\n",
    "#graph[df['origin'][0]] = {df['destination'][0]: (df['harassmentRisk'][0],df['length'][0])}\n",
    "#print(len(graph))\n",
    "#print(df['origin'].iloc[primera])\n",
    "print(len(grafo))\n",
    "print(len(uOrigin))\n",
    "print(df['origin'][10])\n",
    "print(grafo[df['origin'][10]])"
   ],
   "metadata": {
    "collapsed": false,
    "pycharm": {
     "name": "#%%\n"
    }
   }
  },
  {
   "cell_type": "code",
   "execution_count": null,
   "outputs": [],
   "source": [
    "'''\n",
    "Observaciones\n",
    "*La longitud del grafo final es de 27671 la de la lista de origenes unicos es de 27661, por tanto\n",
    "habian 10 coordenadas que no estaban listadas al inicio y los cuales pueden fungir como origen\n",
    "'''"
   ],
   "metadata": {
    "collapsed": false,
    "pycharm": {
     "name": "#%%\n"
    }
   }
  }
 ],
 "metadata": {
  "kernelspec": {
   "display_name": "Python 3.10.5 64-bit",
   "language": "python",
   "name": "python3"
  },
  "language_info": {
   "name": "python",
   "version": "3.10.5"
  },
  "orig_nbformat": 4,
  "vscode": {
   "interpreter": {
    "hash": "837c519a48be08d8749c778cb72b9b5aac116a087aa5d1d99ee0359dceff73e6"
   }
  }
 },
 "nbformat": 4,
 "nbformat_minor": 2
}