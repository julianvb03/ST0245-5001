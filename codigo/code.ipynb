{
 "cells": [
  {
   "cell_type": "code",
   "execution_count": 7,
   "metadata": {
    "pycharm": {
     "name": "#%%\n"
    }
   },
   "outputs": [],
   "source": [
    "#Importamos pandas numpy y leemos el archivo csv con el que trabajaremos\n",
    "import pandas as pd\n",
    "import numpy as np\n",
    "df = pd.read_csv(r'calles_de_medellin_con_acoso.csv', sep=\";\")"
   ]
  },
  {
   "cell_type": "code",
   "execution_count": 13,
   "outputs": [
    {
     "name": "stdout",
     "output_type": "stream",
     "text": [
      "0        0.526539\n",
      "1        0.414356\n",
      "2        0.526539\n",
      "3        0.302173\n",
      "4        0.302173\n",
      "           ...   \n",
      "68744    0.646081\n",
      "68745    0.646081\n",
      "68746    0.646081\n",
      "68747    0.646081\n",
      "68748    0.646081\n",
      "Name: harassmentRisk, Length: 68749, dtype: float64\n"
     ]
    }
   ],
   "source": [
    "#Creamos una funcion para sacar el promedio del acoso sexual con el fin de reemplazar los datos que faltan en la columna 'harassmentRisk'\n",
    "def promedio():\n",
    "    suma = 0\n",
    "    for dato in df['harassmentRisk']:\n",
    "        if pd.isnull(dato):\n",
    "            continue\n",
    "        else:\n",
    "            suma += dato\n",
    "    return suma / len(df['harassmentRisk'])\n",
    "PROMEDIO = promedio()\n",
    "df['harassmentRisk'].fillna(PROMEDIO, inplace=True)"
   ],
   "metadata": {
    "collapsed": false,
    "pycharm": {
     "name": "#%%\n"
    }
   }
  },
  {
   "cell_type": "code",
   "execution_count": null,
   "outputs": [],
   "source": [
    "def crearGrafo():\n"
   ],
   "metadata": {
    "collapsed": false,
    "pycharm": {
     "name": "#%%\n"
    }
   }
  }
 ],
 "metadata": {
  "kernelspec": {
   "display_name": "Python 3.10.5 64-bit",
   "language": "python",
   "name": "python3"
  },
  "language_info": {
   "name": "python",
   "version": "3.10.5"
  },
  "orig_nbformat": 4,
  "vscode": {
   "interpreter": {
    "hash": "837c519a48be08d8749c778cb72b9b5aac116a087aa5d1d99ee0359dceff73e6"
   }
  }
 },
 "nbformat": 4,
 "nbformat_minor": 2
}