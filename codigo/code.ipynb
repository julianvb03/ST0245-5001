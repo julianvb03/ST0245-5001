{
 "cells": [
  {
   "cell_type": "code",
   "execution_count": 223,
   "metadata": {
    "pycharm": {
     "name": "#%%\n"
    }
   },
   "outputs": [],
   "source": [
    "import pandas as pd\n",
    "import numpy as np\n",
    "df = pd.read_csv(r'calles_de_medellin_con_acoso.csv', sep=\";\")"
   ]
  },
  {
   "cell_type": "code",
   "execution_count": 224,
   "outputs": [],
   "source": [
    "def correctFormat(text: str) -> tuple:\n",
    "    textProcess = text[1:-1]\n",
    "    partB, partA = textProcess.split(\",\")\n",
    "    listReturn = [float(partA),float(partB)]\n",
    "    return tuple(listReturn)\n",
    "\n",
    "\n",
    "def average() -> float:\n",
    "    count = 0\n",
    "    for iteration in df['harassmentRisk']:\n",
    "        if pd.isnull(iteration):\n",
    "            continue\n",
    "        else:\n",
    "            count += iteration\n",
    "    return count / len(df['harassmentRisk'])\n",
    "\n",
    "PROMEDIO = average()\n",
    "df['harassmentRisk'].fillna(PROMEDIO, inplace=True)"
   ],
   "metadata": {
    "collapsed": false,
    "pycharm": {
     "name": "#%%\n"
    }
   }
  },
  {
   "cell_type": "code",
   "execution_count": 226,
   "outputs": [
    {
     "name": "stderr",
     "output_type": "stream",
     "text": [
      "IOPub data rate exceeded.\n",
      "The notebook server will temporarily stop sending output\n",
      "to the client in order to avoid crashing it.\n",
      "To change this limit, set the config variable\n",
      "`--NotebookApp.iopub_data_rate_limit`.\n",
      "\n",
      "Current values:\n",
      "NotebookApp.iopub_data_rate_limit=1000000.0 (bytes/sec)\n",
      "NotebookApp.rate_limit_window=3.0 (secs)\n",
      "\n"
     ]
    }
   ],
   "source": [
    "def createGrahp() -> dict:\n",
    "    uniqueOrigins = pd.unique(df['origin'])\n",
    "    graph = {}\n",
    "    for origin in uniqueOrigins:\n",
    "        correctOrigin = correctFormat(origin)\n",
    "        graph[correctOrigin] = {}\n",
    "\n",
    "    for index in df.index:\n",
    "        originIteration = correctFormat(df['origin'][index])\n",
    "        destinationIteration = correctFormat(df['destination'][index])\n",
    "        if destinationIteration in graph:\n",
    "            if df['oneway'][index]:\n",
    "                graph[originIteration] = graph[originIteration] | {destinationIteration:(df['length'][index],df['harassmentRisk'][index])}\n",
    "                graph[destinationIteration] = graph[destinationIteration] | {originIteration:(df['length'][index],df['harassmentRisk'][index])}\n",
    "            else: graph[originIteration] = graph[originIteration] | {destinationIteration:(df['length'][index],df['harassmentRisk'][index])}\n",
    "        else:\n",
    "            if df['oneway'][index]:\n",
    "                graph[destinationIteration] = {}\n",
    "                graph[originIteration] = graph[originIteration] | {destinationIteration:(df['length'][index],df['harassmentRisk'][index])}\n",
    "                graph[destinationIteration] = graph[destinationIteration] | {originIteration:(df['length'][index],df['harassmentRisk'][index])}\n",
    "\n",
    "    return graph\n",
    "\n",
    "graphCM = createGrahp()\n",
    "print(graphCM)"
   ],
   "metadata": {
    "collapsed": false,
    "pycharm": {
     "name": "#%%\n"
    }
   }
  }
 ],
 "metadata": {
  "kernelspec": {
   "display_name": "Python 3.10.5 64-bit",
   "language": "python",
   "name": "python3"
  },
  "language_info": {
   "name": "python",
   "version": "3.10.5"
  },
  "orig_nbformat": 4,
  "vscode": {
   "interpreter": {
    "hash": "837c519a48be08d8749c778cb72b9b5aac116a087aa5d1d99ee0359dceff73e6"
   }
  }
 },
 "nbformat": 4,
 "nbformat_minor": 2
}