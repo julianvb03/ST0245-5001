{
 "cells": [
  {
   "cell_type": "code",
   "execution_count": 231,
   "metadata": {
    "pycharm": {
     "name": "#%%\n"
    }
   },
   "outputs": [],
   "source": [
    "import pandas as pd\n",
    "import numpy as np\n",
    "df = pd.read_csv(r'calles_de_medellin_con_acoso.csv', sep=\";\")"
   ]
  },
  {
   "cell_type": "code",
   "execution_count": null,
   "outputs": [],
   "source": [
    "def correctFormat(text: str) -> tuple:\n",
    "    textProcess = text[1:-1]\n",
    "    partB, partA = textProcess.split(\",\")\n",
    "    listReturn = [float(partA),float(partB)]\n",
    "    return tuple(listReturn)\n",
    "\n",
    "\n",
    "def average() -> float:\n",
    "    count = 0\n",
    "    count2 = 0\n",
    "    for iteration in df['harassmentRisk']:\n",
    "        if pd.isnull(iteration):\n",
    "            continue\n",
    "        else:\n",
    "            count2 += 1\n",
    "            count += iteration\n",
    "    return count / count2\n",
    "\n",
    "PROMEDIO = average()\n",
    "df['harassmentRisk'].fillna(PROMEDIO, inplace=True)\n",
    "print(PROMEDIO)"
   ],
   "metadata": {
    "collapsed": false,
    "pycharm": {
     "name": "#%%\n",
     "is_executing": true
    }
   }
  },
  {
   "cell_type": "code",
   "execution_count": null,
   "outputs": [],
   "source": [
    "def createGrahp() -> dict:\n",
    "    uniqueOrigins = pd.unique(df['origin'])\n",
    "    graph = {}\n",
    "    for origin in uniqueOrigins:\n",
    "        correctOrigin = correctFormat(origin)\n",
    "        graph[correctOrigin] = {}\n",
    "\n",
    "    for index in df.index:\n",
    "        originIteration = correctFormat(df['origin'][index])\n",
    "        destinationIteration = correctFormat(df['destination'][index])\n",
    "        if destinationIteration in graph:\n",
    "            if df['oneway'][index]:\n",
    "                graph[originIteration] = graph[originIteration] | {destinationIteration:(df['length'][index],df['harassmentRisk'][index])}\n",
    "                graph[destinationIteration] = graph[destinationIteration] | {originIteration:(df['length'][index],df['harassmentRisk'][index])}\n",
    "            else: graph[originIteration] = graph[originIteration] | {destinationIteration:(df['length'][index],df['harassmentRisk'][index])}\n",
    "        else:\n",
    "            if df['oneway'][index]:\n",
    "                graph[destinationIteration] = {}\n",
    "                graph[originIteration] = graph[originIteration] | {destinationIteration:(df['length'][index],df['harassmentRisk'][index])}\n",
    "                graph[destinationIteration] = graph[destinationIteration] | {originIteration:(df['length'][index],df['harassmentRisk'][index])}\n",
    "            else: graph[originIteration] = graph[originIteration] | {destinationIteration:(df['length'][index],df['harassmentRisk'][index])}\n",
    "\n",
    "    return graph\n",
    "\n",
    "graphCM = createGrahp()\n",
    "print(graphCM[(6.2063927, -75.5686884)])"
   ],
   "metadata": {
    "collapsed": false,
    "pycharm": {
     "name": "#%%\n",
     "is_executing": true
    }
   }
  },
  {
   "cell_type": "code",
   "execution_count": null,
   "outputs": [],
   "source": [
    "def DjikstraFirst(graph: dict, origin: tuple, destination: tuple) -> list:\n",
    "    shortesdDistance = {}\n",
    "    previusly = {}\n",
    "    noVisiteds = graph\n",
    "    CONTROLER = 9999\n",
    "    shortestPath = []\n",
    "\n",
    "    for node in noVisiteds:\n",
    "        shortesdDistance[node] = CONTROLER\n",
    "    shortesdDistance[origin] = 0\n",
    "\n",
    "    while noVisiteds:\n",
    "        minDistance = None\n",
    "        for node in noVisiteds:\n",
    "            if minDistance is None:\n",
    "                minDistance = node\n",
    "            elif shortesdDistance[node] < shortesdDistance[minDistance]:\n",
    "                minDistance = node\n",
    "\n",
    "        pahtOptions = graph[minDistance].items()\n",
    "\n",
    "        for childNode, weight in pahtOptions:\n",
    "            if weight[0] + shortesdDistance[minDistance] < shortesdDistance[childNode]:\n",
    "                shortesdDistance[childNode] = weight[0] + shortesdDistance[minDistance]\n",
    "                previusly[childNode] = minDistance\n",
    "\n",
    "        noVisiteds.pop(minDistance)\n",
    "\n",
    "    actualyNode = destination\n",
    "\n",
    "    while actualyNode != origin:\n",
    "        try:\n",
    "            shortestPath.insert(0, actualyNode)\n",
    "            actualyNode = previusly[actualyNode]\n",
    "        except KeyError:\n",
    "            print(\"El camino no es posible de encontrar\")\n",
    "            break\n",
    "\n",
    "    if shortesdDistance[destination] != CONTROLER:\n",
    "        print(\"La distancia más corta es de: \", str(shortesdDistance))\n",
    "        print(\"El camino más corto está dado por: \", str(shortestPath))\n",
    "\n",
    "DjikstraFirst(graphCM,(6.2734442, -75.5443961),(6.2094357, -75.5674348))"
   ],
   "metadata": {
    "collapsed": false,
    "pycharm": {
     "name": "#%%\n",
     "is_executing": true
    }
   }
  }
 ],
 "metadata": {
  "kernelspec": {
   "display_name": "Python 3.10.5 64-bit",
   "language": "python",
   "name": "python3"
  },
  "language_info": {
   "name": "python",
   "version": "3.10.5"
  },
  "orig_nbformat": 4,
  "vscode": {
   "interpreter": {
    "hash": "837c519a48be08d8749c778cb72b9b5aac116a087aa5d1d99ee0359dceff73e6"
   }
  }
 },
 "nbformat": 4,
 "nbformat_minor": 2
}